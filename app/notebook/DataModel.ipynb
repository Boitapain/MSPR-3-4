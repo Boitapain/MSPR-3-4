{
 "cells": [
  {
   "cell_type": "code",
   "execution_count": null,
   "id": "1f8a0879",
   "metadata": {},
   "outputs": [
    {
     "ename": "",
     "evalue": "",
     "output_type": "error",
     "traceback": [
      "\u001b[1;31mFailed to start the Kernel. \n",
      "\u001b[1;31mUnable to start Kernel '.venv (Python 3.9.21)' due to a timeout waiting for the ports to get used. \n",
      "\u001b[1;31mView Jupyter <a href='command:jupyter.viewOutput'>log</a> for further details."
     ]
    }
   ],
   "source": [
    "import pandas as pd\n",
    "\n",
    "# Charger les données\n",
    "df = pd.read_csv(\"full_grouped.csv\")  \n",
    "\n",
    "# Renommer les colonnes pour simplifier\n",
    "df = df.rename(columns={\n",
    "    'Date': 'Date',\n",
    "    'Country/Region': 'Country',\n",
    "    'Confirmed': 'Confirmed',\n",
    "    'Deaths': 'Deaths',\n",
    "    'Recovered': 'Recovered',\n",
    "    'New cases': 'New cases',\n",
    "    'New deaths': 'New deaths',\n",
    "    'New recovered': 'New recovered'\n",
    "})\n",
    "\n",
    "# Convertir la date et créer une colonne mois\n",
    "df['Date'] = pd.to_datetime(df['Date'])\n",
    "df['Month'] = df['Date'].dt.to_period('M').dt.to_timestamp()\n",
    "\n",
    "# Garder uniquement les colonnes nécessaires\n",
    "df = df[['Month', 'Country', 'Confirmed', 'Deaths', 'Recovered',\n",
    "         'New cases', 'New deaths', 'New recovered']]\n",
    "\n",
    "# Convertir les colonnes temporelles en valeurs absolues\n",
    "for col in ['New cases', 'New deaths', 'New recovered']:\n",
    "    df[col] = df[col].abs()\n",
    "\n",
    "# Grouper par mois et pays\n",
    "df_grouped = df.groupby(['Month', 'Country'], as_index=False).agg({\n",
    "    'Confirmed': 'last',\n",
    "    'Deaths': 'last',\n",
    "    'Recovered': 'last',\n",
    "    'New cases': 'sum',\n",
    "    'New deaths': 'sum',\n",
    "    'New recovered': 'sum'\n",
    "})\n",
    "\n",
    "# Ajouter une colonne 'nom' avec la valeur 'COVID-19' au début du DataFrame\n",
    "df_grouped.insert(0, 'nom', 'COVID-19')\n",
    "\n",
    "# Ajouter une colonne Id auto-incrémentée\n",
    "df_grouped.insert(1, 'Id', range(1, len(df_grouped) + 1))\n",
    "\n",
    "# Sauvegarder le résultat dans le répertoire courant\n",
    "df_grouped.to_csv(\"data_etl_output.csv\", index=False)\n",
    "\n",
    "print(\"ETL terminé. Fichier sauvegardé sous : data_etl_output.csv\")\n"
   ]
  }
 ],
 "metadata": {
  "kernelspec": {
   "display_name": ".venv",
   "language": "python",
   "name": "python3"
  },
  "language_info": {
   "codemirror_mode": {
    "name": "ipython",
    "version": 3
   },
   "file_extension": ".py",
   "mimetype": "text/x-python",
   "name": "python",
   "nbconvert_exporter": "python",
   "pygments_lexer": "ipython3",
   "version": "3.9.21"
  }
 },
 "nbformat": 4,
 "nbformat_minor": 5
}
