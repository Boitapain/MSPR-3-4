{
 "cells": [
  {
   "cell_type": "code",
   "execution_count": null,
   "id": "1f8a0879",
   "metadata": {},
   "outputs": [],
   "source": [
    "import pandas as pd\n",
    "\n",
    "# Charger le fichier CSV\n",
    "df = pd.read_csv(\"full_grouped.csv\")\n",
    "\n",
    "# Convertir la colonne Date en format datetime\n",
    "df['Date'] = pd.to_datetime(df['Date'])\n",
    "\n",
    "# Ajouter une colonne pour le mois et l'année\n",
    "df['YearMonth'] = df['Date'].dt.to_period('M')\n",
    "\n",
    "# Fonction pour récupérer la dernière valeur non négative\n",
    "def last_non_negative(series):\n",
    "    non_negative = series[series >= 0]\n",
    "    return non_negative.iloc[-1] if not non_negative.empty else None\n",
    "\n",
    "\n",
    "grouped_df = df.groupby(['Country/Region', 'YearMonth']).agg({\n",
    "    'Confirmed': last_non_negative,\n",
    "    'Deaths': last_non_negative,\n",
    "    'Recovered': last_non_negative,\n",
    "    'New cases': 'sum',\n",
    "    'New deaths': 'sum',\n",
    "    'New recovered': 'sum'\n",
    "}).reset_index()\n",
    "\n",
    "\n",
    "grouped_df['Date'] = grouped_df['YearMonth'].dt.to_timestamp()\n",
    "grouped_df = grouped_df.drop(columns=['YearMonth'])\n",
    "grouped_df = grouped_df[['Country/Region', 'Date', 'Confirmed', 'Deaths', 'Recovered', \n",
    "                         'New cases', 'New deaths', 'New recovered']]\n",
    "\n",
    "# Ajouter une colonne ID\n",
    "grouped_df.insert(0, 'ID', range(1, len(grouped_df) + 1))\n",
    "\n",
    "# Exporter les données nettoyées\n",
    "grouped_df.to_csv(\"Cleaned_Data.csv\", index=False)\n"
   ]
  }
 ],
 "metadata": {
  "kernelspec": {
   "display_name": ".venv",
   "language": "python",
   "name": "python3"
  },
  "language_info": {
   "codemirror_mode": {
    "name": "ipython",
    "version": 3
   },
   "file_extension": ".py",
   "mimetype": "text/x-python",
   "name": "python",
   "nbconvert_exporter": "python",
   "pygments_lexer": "ipython3",
   "version": "3.10.6"
  }
 },
 "nbformat": 4,
 "nbformat_minor": 5
}
